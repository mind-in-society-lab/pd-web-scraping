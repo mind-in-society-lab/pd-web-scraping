{
 "cells": [
  {
   "cell_type": "markdown",
   "id": "013cc6ca",
   "metadata": {},
   "source": [
    "# Exploratory Data Analysis for PD Sample 2\n"
   ]
  },
  {
   "cell_type": "code",
   "execution_count": 1,
   "id": "c7e4d768",
   "metadata": {},
   "outputs": [],
   "source": [
    "import pymongo\n",
    "from pymongo import MongoClient\n",
    "\n",
    "import pandas as pd\n",
    "import numpy as np\n",
    "import matplotlib.pyplot as plt\n",
    "\n",
    "import re\n",
    "\n",
    "import plotly.express as px "
   ]
  },
  {
   "cell_type": "markdown",
   "id": "2418b5c8",
   "metadata": {},
   "source": [
    "#### Connect to MongoDB"
   ]
  },
  {
   "cell_type": "code",
   "execution_count": 2,
   "id": "b3dc59b0",
   "metadata": {},
   "outputs": [],
   "source": [
    "client = MongoClient('localhost', 27017)\n",
    "db = client['pd-sample-2']\n",
    "collection = db.outputItems"
   ]
  },
  {
   "cell_type": "code",
   "execution_count": 3,
   "id": "ebfa6934",
   "metadata": {},
   "outputs": [
    {
     "data": {
      "text/html": [
       "<div>\n",
       "<style scoped>\n",
       "    .dataframe tbody tr th:only-of-type {\n",
       "        vertical-align: middle;\n",
       "    }\n",
       "\n",
       "    .dataframe tbody tr th {\n",
       "        vertical-align: top;\n",
       "    }\n",
       "\n",
       "    .dataframe thead th {\n",
       "        text-align: right;\n",
       "    }\n",
       "</style>\n",
       "<table border=\"1\" class=\"dataframe\">\n",
       "  <thead>\n",
       "    <tr style=\"text-align: right;\">\n",
       "      <th></th>\n",
       "      <th>_id</th>\n",
       "      <th>url</th>\n",
       "      <th>text</th>\n",
       "      <th>school_id</th>\n",
       "      <th>depth</th>\n",
       "      <th>images</th>\n",
       "      <th>files</th>\n",
       "    </tr>\n",
       "  </thead>\n",
       "  <tbody>\n",
       "    <tr>\n",
       "      <th>0</th>\n",
       "      <td>62335b8e4f0fd5ba6890389a</td>\n",
       "      <td>https://www.cityoforange.org/our-city/departme...</td>\n",
       "      <td>City of Orange, CA\\n Home\\n \\n Menu\\n \\n \\n \\n...</td>\n",
       "      <td>635833.0</td>\n",
       "      <td>1</td>\n",
       "      <td>[]</td>\n",
       "      <td>[]</td>\n",
       "    </tr>\n",
       "    <tr>\n",
       "      <th>1</th>\n",
       "      <td>62335b8f4f0fd5ba6890389c</td>\n",
       "      <td>https://www.kenosha.org/pay-online</td>\n",
       "      <td>City of Kenosha Menu\\n \\n \\n \\n \\n \\n \\nOpen M...</td>\n",
       "      <td>631542.0</td>\n",
       "      <td>1</td>\n",
       "      <td>[]</td>\n",
       "      <td>[]</td>\n",
       "    </tr>\n",
       "    <tr>\n",
       "      <th>2</th>\n",
       "      <td>62335b904f0fd5ba6890389e</td>\n",
       "      <td>https://florenceal.org/visitors/newcomers___vi...</td>\n",
       "      <td>Explore, Demographics, Getting Here....\\n \\n \\...</td>\n",
       "      <td>630175.0</td>\n",
       "      <td>1</td>\n",
       "      <td>[]</td>\n",
       "      <td>[]</td>\n",
       "    </tr>\n",
       "    <tr>\n",
       "      <th>3</th>\n",
       "      <td>62335b924f0fd5ba689038a0</td>\n",
       "      <td>https://florenceal.org/visitors/press_links/pr...</td>\n",
       "      <td>Explore, Demographics, Getting Here....\\n \\n \\...</td>\n",
       "      <td>630175.0</td>\n",
       "      <td>2</td>\n",
       "      <td>[]</td>\n",
       "      <td>[]</td>\n",
       "    </tr>\n",
       "    <tr>\n",
       "      <th>4</th>\n",
       "      <td>62335b924f0fd5ba689038a2</td>\n",
       "      <td>https://www.kenosha.org/</td>\n",
       "      <td>City of Kenosha Menu\\n \\n \\n \\n \\n \\n \\nOpen M...</td>\n",
       "      <td>631542.0</td>\n",
       "      <td>1</td>\n",
       "      <td>[]</td>\n",
       "      <td>[]</td>\n",
       "    </tr>\n",
       "  </tbody>\n",
       "</table>\n",
       "</div>"
      ],
      "text/plain": [
       "                        _id  \\\n",
       "0  62335b8e4f0fd5ba6890389a   \n",
       "1  62335b8f4f0fd5ba6890389c   \n",
       "2  62335b904f0fd5ba6890389e   \n",
       "3  62335b924f0fd5ba689038a0   \n",
       "4  62335b924f0fd5ba689038a2   \n",
       "\n",
       "                                                 url  \\\n",
       "0  https://www.cityoforange.org/our-city/departme...   \n",
       "1                 https://www.kenosha.org/pay-online   \n",
       "2  https://florenceal.org/visitors/newcomers___vi...   \n",
       "3  https://florenceal.org/visitors/press_links/pr...   \n",
       "4                           https://www.kenosha.org/   \n",
       "\n",
       "                                                text  school_id  depth images  \\\n",
       "0  City of Orange, CA\\n Home\\n \\n Menu\\n \\n \\n \\n...   635833.0      1     []   \n",
       "1  City of Kenosha Menu\\n \\n \\n \\n \\n \\n \\nOpen M...   631542.0      1     []   \n",
       "2  Explore, Demographics, Getting Here....\\n \\n \\...   630175.0      1     []   \n",
       "3  Explore, Demographics, Getting Here....\\n \\n \\...   630175.0      2     []   \n",
       "4  City of Kenosha Menu\\n \\n \\n \\n \\n \\n \\nOpen M...   631542.0      1     []   \n",
       "\n",
       "  files  \n",
       "0    []  \n",
       "1    []  \n",
       "2    []  \n",
       "3    []  \n",
       "4    []  "
      ]
     },
     "execution_count": 3,
     "metadata": {},
     "output_type": "execute_result"
    }
   ],
   "source": [
    "data = pd.DataFrame(list(collection.find()))\n",
    "data.head()"
   ]
  },
  {
   "cell_type": "code",
   "execution_count": 4,
   "id": "58adf7d0",
   "metadata": {},
   "outputs": [
    {
     "data": {
      "text/plain": [
       "631542.0    7997\n",
       "635833.0    2911\n",
       "630740.0    1330\n",
       "647873.0    1001\n",
       "630175.0     301\n",
       "Name: school_id, dtype: int64"
      ]
     },
     "execution_count": 4,
     "metadata": {},
     "output_type": "execute_result"
    }
   ],
   "source": [
    "data['school_id'].value_counts()"
   ]
  },
  {
   "cell_type": "markdown",
   "id": "baba2543",
   "metadata": {},
   "source": [
    "#### Average number of files & images"
   ]
  },
  {
   "cell_type": "code",
   "execution_count": 6,
   "id": "cf270207",
   "metadata": {},
   "outputs": [],
   "source": [
    "# data[\"image_count\"] = data[\"image_urls\"].apply(len)\n",
    "# data[\"file_count\"] = data[\"file_urls\"].apply(len)"
   ]
  },
  {
   "cell_type": "code",
   "execution_count": 5,
   "id": "9d78017f",
   "metadata": {},
   "outputs": [
    {
     "data": {
      "text/plain": [
       "(array([   0.,  283.,  728., 2002., 3259., 7268.]),\n",
       " array([0., 1., 2., 3., 4., 5., 6.]),\n",
       " <BarContainer object of 6 artists>)"
      ]
     },
     "execution_count": 5,
     "metadata": {},
     "output_type": "execute_result"
    },
    {
     "data": {
      "image/png": "[encoded data removed]",
      "text/plain": [
       "<Figure size 432x288 with 1 Axes>"
      ]
     },
     "metadata": {
      "needs_background": "light"
     },
     "output_type": "display_data"
    }
   ],
   "source": [
    "plt.hist(data.depth, bins=np.arange(6.1))"
   ]
  },
  {
   "cell_type": "code",
   "execution_count": 7,
   "id": "8d735159",
   "metadata": {},
   "outputs": [],
   "source": [
    "# plt.hist(data.image_count, bins=np.arange(0, 95.1, 5))"
   ]
  },
  {
   "cell_type": "code",
   "execution_count": 8,
   "id": "c8e76c71",
   "metadata": {},
   "outputs": [],
   "source": [
    "# plt.hist(data.file_count, bins=np.arange(6.1))"
   ]
  },
  {
   "cell_type": "code",
   "execution_count": 11,
   "id": "7fb4e277",
   "metadata": {},
   "outputs": [],
   "source": [
    "for d in data['school_id'].unique():\n",
    "    temp = data[data['school_id']==d]\n",
    "    \n",
    "    temp.to_csv(f'../pd-sample-2/{int(d)}.csv')"
   ]
  },
  {
   "cell_type": "code",
   "execution_count": null,
   "id": "9f5f4f0c",
   "metadata": {},
   "outputs": [],
   "source": []
  }
 ],
 "metadata": {
  "kernelspec": {
   "display_name": "Python 3 (ipykernel)",
   "language": "python",
   "name": "python3"
  },
  "language_info": {
   "codemirror_mode": {
    "name": "ipython",
    "version": 3
   },
   "file_extension": ".py",
   "mimetype": "text/x-python",
   "name": "python",
   "nbconvert_exporter": "python",
   "pygments_lexer": "ipython3",
   "version": "3.9.10"
  }
 },
 "nbformat": 4,
 "nbformat_minor": 5
}
