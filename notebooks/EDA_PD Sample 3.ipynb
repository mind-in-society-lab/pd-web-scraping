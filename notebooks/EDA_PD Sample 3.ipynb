{
 "cells": [
  {
   "cell_type": "markdown",
   "id": "013cc6ca",
   "metadata": {},
   "source": [
    "# Exploratory Data Analysis for PD Sample 3\n"
   ]
  },
  {
   "cell_type": "code",
   "execution_count": 1,
   "id": "c7e4d768",
   "metadata": {},
   "outputs": [],
   "source": [
    "import pymongo\n",
    "from pymongo import MongoClient\n",
    "\n",
    "import pandas as pd\n",
    "import numpy as np\n",
    "import matplotlib.pyplot as plt\n",
    "\n",
    "import re\n",
    "\n",
    "import plotly.express as px "
   ]
  },
  {
   "cell_type": "markdown",
   "id": "2418b5c8",
   "metadata": {},
   "source": [
    "#### Connect to MongoDB"
   ]
  },
  {
   "cell_type": "code",
   "execution_count": 2,
   "id": "b3dc59b0",
   "metadata": {},
   "outputs": [],
   "source": [
    "client = MongoClient('localhost', 27017)\n",
    "db = client['pd-sample-3']\n",
    "collection = db.outputItems"
   ]
  },
  {
   "cell_type": "code",
   "execution_count": 3,
   "id": "ebfa6934",
   "metadata": {},
   "outputs": [
    {
     "data": {
      "text/html": [
       "<div>\n",
       "<style scoped>\n",
       "    .dataframe tbody tr th:only-of-type {\n",
       "        vertical-align: middle;\n",
       "    }\n",
       "\n",
       "    .dataframe tbody tr th {\n",
       "        vertical-align: top;\n",
       "    }\n",
       "\n",
       "    .dataframe thead th {\n",
       "        text-align: right;\n",
       "    }\n",
       "</style>\n",
       "<table border=\"1\" class=\"dataframe\">\n",
       "  <thead>\n",
       "    <tr style=\"text-align: right;\">\n",
       "      <th></th>\n",
       "      <th>_id</th>\n",
       "      <th>url</th>\n",
       "      <th>text</th>\n",
       "      <th>school_id</th>\n",
       "      <th>depth</th>\n",
       "      <th>images</th>\n",
       "      <th>files</th>\n",
       "    </tr>\n",
       "  </thead>\n",
       "  <tbody>\n",
       "    <tr>\n",
       "      <th>0</th>\n",
       "      <td>62421591bd15de7f73dabda2</td>\n",
       "      <td>https://www.madisonal.gov/219/Police</td>\n",
       "      <td>Skip to Main Content\\n \\n \\n \\n \\n \\n Loading\\...</td>\n",
       "      <td>630283.0</td>\n",
       "      <td>1</td>\n",
       "      <td>[]</td>\n",
       "      <td>[]</td>\n",
       "    </tr>\n",
       "    <tr>\n",
       "      <th>1</th>\n",
       "      <td>62421592bd15de7f73dabda4</td>\n",
       "      <td>https://www.dalycity.org/privacy</td>\n",
       "      <td>Skip to Main Content\\n \\n \\n \\n \\n \\n Loading\\...</td>\n",
       "      <td>635588.0</td>\n",
       "      <td>1</td>\n",
       "      <td>[]</td>\n",
       "      <td>[]</td>\n",
       "    </tr>\n",
       "    <tr>\n",
       "      <th>2</th>\n",
       "      <td>62421593bd15de7f73dabda6</td>\n",
       "      <td>https://www.madisonal.gov/privacy</td>\n",
       "      <td>Skip to Main Content\\n \\n \\n \\n \\n \\n \\n Loadi...</td>\n",
       "      <td>630283.0</td>\n",
       "      <td>1</td>\n",
       "      <td>[]</td>\n",
       "      <td>[]</td>\n",
       "    </tr>\n",
       "    <tr>\n",
       "      <th>3</th>\n",
       "      <td>62421594bd15de7f73dabda8</td>\n",
       "      <td>https://www.madisonal.gov/site/copyright</td>\n",
       "      <td>Skip to Main Content\\n \\n \\n \\n \\n \\n \\n Loadi...</td>\n",
       "      <td>630283.0</td>\n",
       "      <td>1</td>\n",
       "      <td>[]</td>\n",
       "      <td>[]</td>\n",
       "    </tr>\n",
       "    <tr>\n",
       "      <th>4</th>\n",
       "      <td>62421594bd15de7f73dabdaa</td>\n",
       "      <td>https://www.dalycity.org/copyright</td>\n",
       "      <td>Skip to Main Content\\n \\n \\n \\n \\n \\n \\n Loadi...</td>\n",
       "      <td>635588.0</td>\n",
       "      <td>1</td>\n",
       "      <td>[]</td>\n",
       "      <td>[]</td>\n",
       "    </tr>\n",
       "  </tbody>\n",
       "</table>\n",
       "</div>"
      ],
      "text/plain": [
       "                        _id                                       url  \\\n",
       "0  62421591bd15de7f73dabda2      https://www.madisonal.gov/219/Police   \n",
       "1  62421592bd15de7f73dabda4          https://www.dalycity.org/privacy   \n",
       "2  62421593bd15de7f73dabda6         https://www.madisonal.gov/privacy   \n",
       "3  62421594bd15de7f73dabda8  https://www.madisonal.gov/site/copyright   \n",
       "4  62421594bd15de7f73dabdaa        https://www.dalycity.org/copyright   \n",
       "\n",
       "                                                text  school_id  depth images  \\\n",
       "0  Skip to Main Content\\n \\n \\n \\n \\n \\n Loading\\...   630283.0      1     []   \n",
       "1  Skip to Main Content\\n \\n \\n \\n \\n \\n Loading\\...   635588.0      1     []   \n",
       "2  Skip to Main Content\\n \\n \\n \\n \\n \\n \\n Loadi...   630283.0      1     []   \n",
       "3  Skip to Main Content\\n \\n \\n \\n \\n \\n \\n Loadi...   630283.0      1     []   \n",
       "4  Skip to Main Content\\n \\n \\n \\n \\n \\n \\n Loadi...   635588.0      1     []   \n",
       "\n",
       "  files  \n",
       "0    []  \n",
       "1    []  \n",
       "2    []  \n",
       "3    []  \n",
       "4    []  "
      ]
     },
     "execution_count": 3,
     "metadata": {},
     "output_type": "execute_result"
    }
   ],
   "source": [
    "data = pd.DataFrame(list(collection.find()))\n",
    "data.head()"
   ]
  },
  {
   "cell_type": "code",
   "execution_count": 4,
   "id": "58adf7d0",
   "metadata": {},
   "outputs": [
    {
     "data": {
      "text/plain": [
       "630283.0    4373\n",
       "645690.0    3180\n",
       "635588.0    2534\n",
       "638546.0    1765\n",
       "Name: school_id, dtype: int64"
      ]
     },
     "execution_count": 4,
     "metadata": {},
     "output_type": "execute_result"
    }
   ],
   "source": [
    "data['school_id'].value_counts()"
   ]
  },
  {
   "cell_type": "markdown",
   "id": "baba2543",
   "metadata": {},
   "source": [
    "#### Average number of files & images"
   ]
  },
  {
   "cell_type": "code",
   "execution_count": 6,
   "id": "cf270207",
   "metadata": {},
   "outputs": [],
   "source": [
    "# data[\"image_count\"] = data[\"image_urls\"].apply(len)\n",
    "# data[\"file_count\"] = data[\"file_urls\"].apply(len)"
   ]
  },
  {
   "cell_type": "code",
   "execution_count": 5,
   "id": "9d78017f",
   "metadata": {},
   "outputs": [
    {
     "data": {
      "text/plain": [
       "(array([   0.,  191., 1286., 2207., 4119., 4049.]),\n",
       " array([0., 1., 2., 3., 4., 5., 6.]),\n",
       " <BarContainer object of 6 artists>)"
      ]
     },
     "execution_count": 5,
     "metadata": {},
     "output_type": "execute_result"
    },
    {
     "data": {
      "image/png": "[encoded data removed]",
      "text/plain": [
       "<Figure size 432x288 with 1 Axes>"
      ]
     },
     "metadata": {
      "needs_background": "light"
     },
     "output_type": "display_data"
    }
   ],
   "source": [
    "plt.hist(data.depth, bins=np.arange(6.1))"
   ]
  },
  {
   "cell_type": "code",
   "execution_count": 7,
   "id": "8d735159",
   "metadata": {},
   "outputs": [],
   "source": [
    "# plt.hist(data.image_count, bins=np.arange(0, 95.1, 5))"
   ]
  },
  {
   "cell_type": "code",
   "execution_count": 8,
   "id": "c8e76c71",
   "metadata": {},
   "outputs": [],
   "source": [
    "# plt.hist(data.file_count, bins=np.arange(6.1))"
   ]
  },
  {
   "cell_type": "code",
   "execution_count": 6,
   "id": "669f8ebe",
   "metadata": {},
   "outputs": [],
   "source": [
    "!mkdir ../pd-sample-3"
   ]
  },
  {
   "cell_type": "code",
   "execution_count": 7,
   "id": "7fb4e277",
   "metadata": {},
   "outputs": [],
   "source": [
    "for d in data['school_id'].unique():\n",
    "    temp = data[data['school_id']==d]\n",
    "    \n",
    "    temp.to_csv(f'../pd-sample-3/{int(d)}.csv')"
   ]
  },
  {
   "cell_type": "code",
   "execution_count": null,
   "id": "9f5f4f0c",
   "metadata": {},
   "outputs": [],
   "source": []
  }
 ],
 "metadata": {
  "kernelspec": {
   "display_name": "Python 3 (ipykernel)",
   "language": "python",
   "name": "python3"
  },
  "language_info": {
   "codemirror_mode": {
    "name": "ipython",
    "version": 3
   },
   "file_extension": ".py",
   "mimetype": "text/x-python",
   "name": "python",
   "nbconvert_exporter": "python",
   "pygments_lexer": "ipython3",
   "version": "3.9.10"
  }
 },
 "nbformat": 4,
 "nbformat_minor": 5
}
