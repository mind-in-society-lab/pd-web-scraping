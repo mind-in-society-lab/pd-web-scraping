{
 "cells": [
  {
   "cell_type": "markdown",
   "id": "013cc6ca",
   "metadata": {},
   "source": [
    "# Exploratory Data Analysis for PD Test Sample\n"
   ]
  },
  {
   "cell_type": "code",
   "execution_count": 1,
   "id": "c7e4d768",
   "metadata": {},
   "outputs": [],
   "source": [
    "import pymongo\n",
    "from pymongo import MongoClient\n",
    "\n",
    "import pandas as pd\n",
    "import numpy as np\n",
    "import matplotlib.pyplot as plt\n",
    "\n",
    "import re\n",
    "\n",
    "import plotly.express as px "
   ]
  },
  {
   "cell_type": "markdown",
   "id": "2418b5c8",
   "metadata": {},
   "source": [
    "#### Connect to MongoDB"
   ]
  },
  {
   "cell_type": "code",
   "execution_count": 2,
   "id": "b3dc59b0",
   "metadata": {},
   "outputs": [],
   "source": [
    "client = MongoClient('localhost', 27017)\n",
    "db = client['pd-test-sample']\n",
    "collection = db.outputItems"
   ]
  },
  {
   "cell_type": "code",
   "execution_count": 3,
   "id": "ebfa6934",
   "metadata": {},
   "outputs": [
    {
     "data": {
      "text/html": [
       "<div>\n",
       "<style scoped>\n",
       "    .dataframe tbody tr th:only-of-type {\n",
       "        vertical-align: middle;\n",
       "    }\n",
       "\n",
       "    .dataframe tbody tr th {\n",
       "        vertical-align: top;\n",
       "    }\n",
       "\n",
       "    .dataframe thead th {\n",
       "        text-align: right;\n",
       "    }\n",
       "</style>\n",
       "<table border=\"1\" class=\"dataframe\">\n",
       "  <thead>\n",
       "    <tr style=\"text-align: right;\">\n",
       "      <th></th>\n",
       "      <th>_id</th>\n",
       "      <th>url</th>\n",
       "      <th>text</th>\n",
       "      <th>school_id</th>\n",
       "      <th>depth</th>\n",
       "      <th>image_urls</th>\n",
       "      <th>file_urls</th>\n",
       "      <th>file_text</th>\n",
       "      <th>images</th>\n",
       "      <th>files</th>\n",
       "    </tr>\n",
       "  </thead>\n",
       "  <tbody>\n",
       "    <tr>\n",
       "      <th>0</th>\n",
       "      <td>6202af4e0f994ceb8494478a</td>\n",
       "      <td>https://www.oxfordcountysheriff.com/about</td>\n",
       "      <td>About \\n \\n \\n \\n \\n \\n \\n \\n \\n \\n \\n \\n \\n \\...</td>\n",
       "      <td>642050.0</td>\n",
       "      <td>1</td>\n",
       "      <td>[https://lirp.cdn-website.com/3653612c/dms3rep...</td>\n",
       "      <td>[]</td>\n",
       "      <td>[]</td>\n",
       "      <td>[{'url': 'https://lirp.cdn-website.com/3653612...</td>\n",
       "      <td>[]</td>\n",
       "    </tr>\n",
       "    <tr>\n",
       "      <th>1</th>\n",
       "      <td>6202af560f994ceb84944792</td>\n",
       "      <td>https://nlrpolice.org/pay-fines/</td>\n",
       "      <td>Skip to content\\n \\n \\n \\n \\n \\n \\n \\n \\n \\n \\...</td>\n",
       "      <td>630792.0</td>\n",
       "      <td>1</td>\n",
       "      <td>[https://nlrpolice.org/wp-content/uploads/2020...</td>\n",
       "      <td>[]</td>\n",
       "      <td>[]</td>\n",
       "      <td>[{'url': 'https://nlrpolice.org/wp-content/upl...</td>\n",
       "      <td>[]</td>\n",
       "    </tr>\n",
       "    <tr>\n",
       "      <th>2</th>\n",
       "      <td>6202af560f994ceb84944794</td>\n",
       "      <td>https://www.moundvillealabama.com/government/d...</td>\n",
       "      <td>Home\\n Latest News\\n Community\\n City Services...</td>\n",
       "      <td>630312.0</td>\n",
       "      <td>1</td>\n",
       "      <td>[https://res.cloudinary.com/caboose/image/uplo...</td>\n",
       "      <td>[]</td>\n",
       "      <td>[]</td>\n",
       "      <td>[{'url': 'https://res.cloudinary.com/caboose/i...</td>\n",
       "      <td>[]</td>\n",
       "    </tr>\n",
       "    <tr>\n",
       "      <th>3</th>\n",
       "      <td>6202af580f994ceb84944796</td>\n",
       "      <td>http://www.hcsheriff.gov/uniform_services/sher...</td>\n",
       "      <td>Submit a Tip\\n \\n General Info\\n \\n \\n About t...</td>\n",
       "      <td>636789.0</td>\n",
       "      <td>1</td>\n",
       "      <td>[http://www.hcsheriff.gov/images/hcso_home_hea...</td>\n",
       "      <td>[http://hcsheriff.gov\\pressreleases\\HCSO_Publi...</td>\n",
       "      <td>[, , , , ]</td>\n",
       "      <td>[]</td>\n",
       "      <td>[{'url': 'http://hcsheriff.gov/cid/annual_repo...</td>\n",
       "    </tr>\n",
       "    <tr>\n",
       "      <th>4</th>\n",
       "      <td>6202af5a0f994ceb84944798</td>\n",
       "      <td>https://cityofadamswi.org/accessibility/</td>\n",
       "      <td>HomeGovernment\\nAdams County GovernmentCity Co...</td>\n",
       "      <td>631293.0</td>\n",
       "      <td>1</td>\n",
       "      <td>[https://cityofadamswi.org/wp-content/uploads/...</td>\n",
       "      <td>[]</td>\n",
       "      <td>[]</td>\n",
       "      <td>[{'url': 'https://cityofadamswi.org/wp-content...</td>\n",
       "      <td>[]</td>\n",
       "    </tr>\n",
       "  </tbody>\n",
       "</table>\n",
       "</div>"
      ],
      "text/plain": [
       "                        _id  \\\n",
       "0  6202af4e0f994ceb8494478a   \n",
       "1  6202af560f994ceb84944792   \n",
       "2  6202af560f994ceb84944794   \n",
       "3  6202af580f994ceb84944796   \n",
       "4  6202af5a0f994ceb84944798   \n",
       "\n",
       "                                                 url  \\\n",
       "0          https://www.oxfordcountysheriff.com/about   \n",
       "1                   https://nlrpolice.org/pay-fines/   \n",
       "2  https://www.moundvillealabama.com/government/d...   \n",
       "3  http://www.hcsheriff.gov/uniform_services/sher...   \n",
       "4           https://cityofadamswi.org/accessibility/   \n",
       "\n",
       "                                                text  school_id  depth  \\\n",
       "0  About \\n \\n \\n \\n \\n \\n \\n \\n \\n \\n \\n \\n \\n \\...   642050.0      1   \n",
       "1  Skip to content\\n \\n \\n \\n \\n \\n \\n \\n \\n \\n \\...   630792.0      1   \n",
       "2  Home\\n Latest News\\n Community\\n City Services...   630312.0      1   \n",
       "3  Submit a Tip\\n \\n General Info\\n \\n \\n About t...   636789.0      1   \n",
       "4  HomeGovernment\\nAdams County GovernmentCity Co...   631293.0      1   \n",
       "\n",
       "                                          image_urls  \\\n",
       "0  [https://lirp.cdn-website.com/3653612c/dms3rep...   \n",
       "1  [https://nlrpolice.org/wp-content/uploads/2020...   \n",
       "2  [https://res.cloudinary.com/caboose/image/uplo...   \n",
       "3  [http://www.hcsheriff.gov/images/hcso_home_hea...   \n",
       "4  [https://cityofadamswi.org/wp-content/uploads/...   \n",
       "\n",
       "                                           file_urls   file_text  \\\n",
       "0                                                 []          []   \n",
       "1                                                 []          []   \n",
       "2                                                 []          []   \n",
       "3  [http://hcsheriff.gov\\pressreleases\\HCSO_Publi...  [, , , , ]   \n",
       "4                                                 []          []   \n",
       "\n",
       "                                              images  \\\n",
       "0  [{'url': 'https://lirp.cdn-website.com/3653612...   \n",
       "1  [{'url': 'https://nlrpolice.org/wp-content/upl...   \n",
       "2  [{'url': 'https://res.cloudinary.com/caboose/i...   \n",
       "3                                                 []   \n",
       "4  [{'url': 'https://cityofadamswi.org/wp-content...   \n",
       "\n",
       "                                               files  \n",
       "0                                                 []  \n",
       "1                                                 []  \n",
       "2                                                 []  \n",
       "3  [{'url': 'http://hcsheriff.gov/cid/annual_repo...  \n",
       "4                                                 []  "
      ]
     },
     "execution_count": 3,
     "metadata": {},
     "output_type": "execute_result"
    }
   ],
   "source": [
    "data = pd.DataFrame(list(collection.find()))\n",
    "data.head()"
   ]
  },
  {
   "cell_type": "code",
   "execution_count": 4,
   "id": "58adf7d0",
   "metadata": {},
   "outputs": [
    {
     "data": {
      "text/html": [
       "<div>\n",
       "<style scoped>\n",
       "    .dataframe tbody tr th:only-of-type {\n",
       "        vertical-align: middle;\n",
       "    }\n",
       "\n",
       "    .dataframe tbody tr th {\n",
       "        vertical-align: top;\n",
       "    }\n",
       "\n",
       "    .dataframe thead th {\n",
       "        text-align: right;\n",
       "    }\n",
       "</style>\n",
       "<table border=\"1\" class=\"dataframe\">\n",
       "  <thead>\n",
       "    <tr style=\"text-align: right;\">\n",
       "      <th></th>\n",
       "      <th>depth</th>\n",
       "    </tr>\n",
       "    <tr>\n",
       "      <th>school_id</th>\n",
       "      <th></th>\n",
       "    </tr>\n",
       "  </thead>\n",
       "  <tbody>\n",
       "    <tr>\n",
       "      <th>630312.0</th>\n",
       "      <td>1</td>\n",
       "    </tr>\n",
       "    <tr>\n",
       "      <th>630792.0</th>\n",
       "      <td>1</td>\n",
       "    </tr>\n",
       "    <tr>\n",
       "      <th>631293.0</th>\n",
       "      <td>1</td>\n",
       "    </tr>\n",
       "    <tr>\n",
       "      <th>632322.0</th>\n",
       "      <td>1</td>\n",
       "    </tr>\n",
       "    <tr>\n",
       "      <th>636560.0</th>\n",
       "      <td>1</td>\n",
       "    </tr>\n",
       "    <tr>\n",
       "      <th>636789.0</th>\n",
       "      <td>7991</td>\n",
       "    </tr>\n",
       "    <tr>\n",
       "      <th>636992.0</th>\n",
       "      <td>1</td>\n",
       "    </tr>\n",
       "    <tr>\n",
       "      <th>637796.0</th>\n",
       "      <td>2743</td>\n",
       "    </tr>\n",
       "    <tr>\n",
       "      <th>640471.0</th>\n",
       "      <td>166</td>\n",
       "    </tr>\n",
       "    <tr>\n",
       "      <th>641984.0</th>\n",
       "      <td>2</td>\n",
       "    </tr>\n",
       "    <tr>\n",
       "      <th>642050.0</th>\n",
       "      <td>2</td>\n",
       "    </tr>\n",
       "    <tr>\n",
       "      <th>643767.0</th>\n",
       "      <td>1</td>\n",
       "    </tr>\n",
       "    <tr>\n",
       "      <th>650960.0</th>\n",
       "      <td>507</td>\n",
       "    </tr>\n",
       "  </tbody>\n",
       "</table>\n",
       "</div>"
      ],
      "text/plain": [
       "           depth\n",
       "school_id       \n",
       "630312.0       1\n",
       "630792.0       1\n",
       "631293.0       1\n",
       "632322.0       1\n",
       "636560.0       1\n",
       "636789.0    7991\n",
       "636992.0       1\n",
       "637796.0    2743\n",
       "640471.0     166\n",
       "641984.0       2\n",
       "642050.0       2\n",
       "643767.0       1\n",
       "650960.0     507"
      ]
     },
     "execution_count": 4,
     "metadata": {},
     "output_type": "execute_result"
    }
   ],
   "source": [
    "data.groupby('school_id').sum()"
   ]
  },
  {
   "cell_type": "code",
   "execution_count": 5,
   "id": "cf270207",
   "metadata": {},
   "outputs": [],
   "source": [
    "data[\"image_count\"] = data[\"image_urls\"].apply(len)\n",
    "data[\"file_count\"] = data[\"file_urls\"].apply(len)"
   ]
  },
  {
   "cell_type": "code",
   "execution_count": 6,
   "id": "9d78017f",
   "metadata": {},
   "outputs": [
    {
     "data": {
      "text/plain": [
       "(array([   0.,   24.,   62.,  284., 1677.,  742.]),\n",
       " array([0., 1., 2., 3., 4., 5., 6.]),\n",
       " <BarContainer object of 6 artists>)"
      ]
     },
     "execution_count": 6,
     "metadata": {},
     "output_type": "execute_result"
    },
    {
     "data": {
      "image/png": "[encoded data removed]",
      "text/plain": [
       "<Figure size 432x288 with 1 Axes>"
      ]
     },
     "metadata": {
      "needs_background": "light"
     },
     "output_type": "display_data"
    }
   ],
   "source": [
    "plt.hist(data.depth, bins=np.arange(6.1))"
   ]
  },
  {
   "cell_type": "code",
   "execution_count": 7,
   "id": "8d735159",
   "metadata": {},
   "outputs": [
    {
     "data": {
      "text/plain": [
       "(array([ 804.,  328., 1540.,    8.,   11.,   74.,    9.,    5.,    7.,\n",
       "           0.,    0.,    0.,    0.,    0.,    0.,    0.,    0.,    0.,\n",
       "           3.]),\n",
       " array([ 0.,  5., 10., 15., 20., 25., 30., 35., 40., 45., 50., 55., 60.,\n",
       "        65., 70., 75., 80., 85., 90., 95.]),\n",
       " <BarContainer object of 19 artists>)"
      ]
     },
     "execution_count": 7,
     "metadata": {},
     "output_type": "execute_result"
    },
    {
     "data": {
      "image/png": "[encoded data removed]",
      "text/plain": [
       "<Figure size 432x288 with 1 Axes>"
      ]
     },
     "metadata": {
      "needs_background": "light"
     },
     "output_type": "display_data"
    }
   ],
   "source": [
    "plt.hist(data.image_count, bins=np.arange(0, 95.1, 5))"
   ]
  },
  {
   "cell_type": "code",
   "execution_count": 8,
   "id": "c8e76c71",
   "metadata": {},
   "outputs": [
    {
     "data": {
      "text/plain": [
       "(array([7.470e+02, 3.790e+02, 1.615e+03, 2.000e+00, 0.000e+00, 1.000e+00]),\n",
       " array([0., 1., 2., 3., 4., 5., 6.]),\n",
       " <BarContainer object of 6 artists>)"
      ]
     },
     "execution_count": 8,
     "metadata": {},
     "output_type": "execute_result"
    },
    {
     "data": {
      "image/png": "[encoded data removed]",
      "text/plain": [
       "<Figure size 432x288 with 1 Axes>"
      ]
     },
     "metadata": {
      "needs_background": "light"
     },
     "output_type": "display_data"
    }
   ],
   "source": [
    "plt.hist(data.file_count, bins=np.arange(6.1))"
   ]
  },
  {
   "cell_type": "code",
   "execution_count": null,
   "id": "7fb4e277",
   "metadata": {},
   "outputs": [],
   "source": []
  }
 ],
 "metadata": {
  "kernelspec": {
   "display_name": "Python 3 (ipykernel)",
   "language": "python",
   "name": "python3"
  },
  "language_info": {
   "codemirror_mode": {
    "name": "ipython",
    "version": 3
   },
   "file_extension": ".py",
   "mimetype": "text/x-python",
   "name": "python",
   "nbconvert_exporter": "python",
   "pygments_lexer": "ipython3",
   "version": "3.9.7"
  }
 },
 "nbformat": 4,
 "nbformat_minor": 5
}
