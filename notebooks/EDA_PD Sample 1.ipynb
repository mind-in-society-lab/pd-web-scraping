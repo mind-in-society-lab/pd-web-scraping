{
 "cells": [
  {
   "cell_type": "markdown",
   "id": "013cc6ca",
   "metadata": {},
   "source": [
    "# Exploratory Data Analysis for PD Sample 1\n"
   ]
  },
  {
   "cell_type": "code",
   "execution_count": 1,
   "id": "c7e4d768",
   "metadata": {},
   "outputs": [],
   "source": [
    "import pymongo\n",
    "from pymongo import MongoClient\n",
    "\n",
    "import pandas as pd\n",
    "import numpy as np\n",
    "import matplotlib.pyplot as plt\n",
    "\n",
    "import re\n",
    "\n",
    "import plotly.express as px "
   ]
  },
  {
   "cell_type": "markdown",
   "id": "2418b5c8",
   "metadata": {},
   "source": [
    "#### Connect to MongoDB"
   ]
  },
  {
   "cell_type": "code",
   "execution_count": 2,
   "id": "b3dc59b0",
   "metadata": {},
   "outputs": [],
   "source": [
    "client = MongoClient('localhost', 27017)\n",
    "db = client['pd-sample-1-links']\n",
    "collection = db.outputItems"
   ]
  },
  {
   "cell_type": "code",
   "execution_count": 3,
   "id": "ebfa6934",
   "metadata": {},
   "outputs": [
    {
     "data": {
      "text/html": [
       "<div>\n",
       "<style scoped>\n",
       "    .dataframe tbody tr th:only-of-type {\n",
       "        vertical-align: middle;\n",
       "    }\n",
       "\n",
       "    .dataframe tbody tr th {\n",
       "        vertical-align: top;\n",
       "    }\n",
       "\n",
       "    .dataframe thead th {\n",
       "        text-align: right;\n",
       "    }\n",
       "</style>\n",
       "<table border=\"1\" class=\"dataframe\">\n",
       "  <thead>\n",
       "    <tr style=\"text-align: right;\">\n",
       "      <th></th>\n",
       "      <th>_id</th>\n",
       "      <th>url</th>\n",
       "      <th>school_id</th>\n",
       "      <th>depth</th>\n",
       "      <th>images</th>\n",
       "      <th>files</th>\n",
       "    </tr>\n",
       "  </thead>\n",
       "  <tbody>\n",
       "    <tr>\n",
       "      <th>0</th>\n",
       "      <td>622a4bc8c20c51d50ee74153</td>\n",
       "      <td>https://www.ycsoaz.gov/Privacy</td>\n",
       "      <td>635360.0</td>\n",
       "      <td>1</td>\n",
       "      <td>[]</td>\n",
       "      <td>[]</td>\n",
       "    </tr>\n",
       "    <tr>\n",
       "      <th>1</th>\n",
       "      <td>622a4bc8c20c51d50ee74155</td>\n",
       "      <td>https://forms.newarkpd.com/police-satisfaction...</td>\n",
       "      <td>646671.0</td>\n",
       "      <td>1</td>\n",
       "      <td>[]</td>\n",
       "      <td>[]</td>\n",
       "    </tr>\n",
       "    <tr>\n",
       "      <th>2</th>\n",
       "      <td>622a4bc8c20c51d50ee74157</td>\n",
       "      <td>https://www.pottercountysheriff.org</td>\n",
       "      <td>650567.0</td>\n",
       "      <td>1</td>\n",
       "      <td>[]</td>\n",
       "      <td>[]</td>\n",
       "    </tr>\n",
       "    <tr>\n",
       "      <th>3</th>\n",
       "      <td>622a4bc8c20c51d50ee74159</td>\n",
       "      <td>https://www.haywoodncsheriff.com/</td>\n",
       "      <td>648728.0</td>\n",
       "      <td>1</td>\n",
       "      <td>[]</td>\n",
       "      <td>[]</td>\n",
       "    </tr>\n",
       "    <tr>\n",
       "      <th>4</th>\n",
       "      <td>622a4bc9c20c51d50ee7415b</td>\n",
       "      <td>https://www.capecops.com/find-it</td>\n",
       "      <td>636684.0</td>\n",
       "      <td>1</td>\n",
       "      <td>[]</td>\n",
       "      <td>[]</td>\n",
       "    </tr>\n",
       "  </tbody>\n",
       "</table>\n",
       "</div>"
      ],
      "text/plain": [
       "                        _id  \\\n",
       "0  622a4bc8c20c51d50ee74153   \n",
       "1  622a4bc8c20c51d50ee74155   \n",
       "2  622a4bc8c20c51d50ee74157   \n",
       "3  622a4bc8c20c51d50ee74159   \n",
       "4  622a4bc9c20c51d50ee7415b   \n",
       "\n",
       "                                                 url  school_id  depth images  \\\n",
       "0                     https://www.ycsoaz.gov/Privacy   635360.0      1     []   \n",
       "1  https://forms.newarkpd.com/police-satisfaction...   646671.0      1     []   \n",
       "2                https://www.pottercountysheriff.org   650567.0      1     []   \n",
       "3                  https://www.haywoodncsheriff.com/   648728.0      1     []   \n",
       "4                   https://www.capecops.com/find-it   636684.0      1     []   \n",
       "\n",
       "  files  \n",
       "0    []  \n",
       "1    []  \n",
       "2    []  \n",
       "3    []  \n",
       "4    []  "
      ]
     },
     "execution_count": 3,
     "metadata": {},
     "output_type": "execute_result"
    }
   ],
   "source": [
    "data = pd.DataFrame(list(collection.find()))\n",
    "data.head()"
   ]
  },
  {
   "cell_type": "code",
   "execution_count": 4,
   "id": "58adf7d0",
   "metadata": {},
   "outputs": [
    {
     "data": {
      "text/plain": [
       "636684.0    5106\n",
       "637689.0    1561\n",
       "645176.0    1214\n",
       "636658.0     145\n",
       "639630.0      80\n",
       "646671.0      55\n",
       "648868.0      23\n",
       "650156.0      23\n",
       "644371.0       3\n",
       "648728.0       2\n",
       "635360.0       1\n",
       "650567.0       1\n",
       "Name: school_id, dtype: int64"
      ]
     },
     "execution_count": 4,
     "metadata": {},
     "output_type": "execute_result"
    }
   ],
   "source": [
    "data['school_id'].value_counts()"
   ]
  },
  {
   "cell_type": "markdown",
   "id": "baba2543",
   "metadata": {},
   "source": [
    "#### Average number of files & images"
   ]
  },
  {
   "cell_type": "code",
   "execution_count": 6,
   "id": "cf270207",
   "metadata": {},
   "outputs": [],
   "source": [
    "# data[\"image_count\"] = data[\"image_urls\"].apply(len)\n",
    "# data[\"file_count\"] = data[\"file_urls\"].apply(len)"
   ]
  },
  {
   "cell_type": "code",
   "execution_count": null,
   "id": "9d78017f",
   "metadata": {},
   "outputs": [],
   "source": [
    "plt.hist(data.depth, bins=np.arange(6.1))"
   ]
  },
  {
   "cell_type": "code",
   "execution_count": 11,
   "id": "8d735159",
   "metadata": {},
   "outputs": [
    {
     "data": {
      "text/plain": [
       "(array([4.807e+03, 3.671e+03, 8.353e+03, 1.460e+02, 1.470e+02, 3.400e+01,\n",
       "        6.000e+00, 6.000e+00, 6.000e+00, 0.000e+00, 1.000e+00, 2.000e+00,\n",
       "        1.000e+00, 1.000e+00, 0.000e+00, 1.000e+00, 0.000e+00, 0.000e+00,\n",
       "        0.000e+00]),\n",
       " array([ 0.,  5., 10., 15., 20., 25., 30., 35., 40., 45., 50., 55., 60.,\n",
       "        65., 70., 75., 80., 85., 90., 95.]),\n",
       " <BarContainer object of 19 artists>)"
      ]
     },
     "execution_count": 11,
     "metadata": {},
     "output_type": "execute_result"
    },
    {
     "data": {
      "image/png": "[encoded data removed]",
      "text/plain": [
       "<Figure size 432x288 with 1 Axes>"
      ]
     },
     "metadata": {
      "needs_background": "light"
     },
     "output_type": "display_data"
    }
   ],
   "source": [
    "plt.hist(data.image_count, bins=np.arange(0, 95.1, 5))"
   ]
  },
  {
   "cell_type": "code",
   "execution_count": 12,
   "id": "c8e76c71",
   "metadata": {},
   "outputs": [
    {
     "data": {
      "text/plain": [
       "(array([9603., 6092.,  390.,  298.,  209.,  224.]),\n",
       " array([0., 1., 2., 3., 4., 5., 6.]),\n",
       " <BarContainer object of 6 artists>)"
      ]
     },
     "execution_count": 12,
     "metadata": {},
     "output_type": "execute_result"
    },
    {
     "data": {
      "image/png": "[encoded data removed]",
      "text/plain": [
       "<Figure size 432x288 with 1 Axes>"
      ]
     },
     "metadata": {
      "needs_background": "light"
     },
     "output_type": "display_data"
    }
   ],
   "source": [
    "plt.hist(data.file_count, bins=np.arange(6.1))"
   ]
  },
  {
   "cell_type": "code",
   "execution_count": 9,
   "id": "7fb4e277",
   "metadata": {},
   "outputs": [],
   "source": [
    "for d in data['school_id'].unique():\n",
    "    temp = data[data['school_id']==d]\n",
    "    \n",
    "    temp.to_csv(f'../pd-sample-1-links/{int(d)}.csv')"
   ]
  },
  {
   "cell_type": "code",
   "execution_count": null,
   "id": "9f5f4f0c",
   "metadata": {},
   "outputs": [],
   "source": []
  }
 ],
 "metadata": {
  "kernelspec": {
   "display_name": "Python 3 (ipykernel)",
   "language": "python",
   "name": "python3"
  },
  "language_info": {
   "codemirror_mode": {
    "name": "ipython",
    "version": 3
   },
   "file_extension": ".py",
   "mimetype": "text/x-python",
   "name": "python",
   "nbconvert_exporter": "python",
   "pygments_lexer": "ipython3",
   "version": "3.9.10"
  }
 },
 "nbformat": 4,
 "nbformat_minor": 5
}
