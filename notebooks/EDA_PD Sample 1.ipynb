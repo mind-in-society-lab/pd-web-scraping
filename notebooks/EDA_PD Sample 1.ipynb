{
 "cells": [
  {
   "cell_type": "markdown",
   "id": "013cc6ca",
   "metadata": {},
   "source": [
    "# Exploratory Data Analysis for PD Sample 1\n"
   ]
  },
  {
   "cell_type": "code",
   "execution_count": 1,
   "id": "c7e4d768",
   "metadata": {},
   "outputs": [],
   "source": [
    "import pymongo\n",
    "from pymongo import MongoClient\n",
    "\n",
    "import pandas as pd\n",
    "import numpy as np\n",
    "import matplotlib.pyplot as plt\n",
    "\n",
    "import re\n",
    "\n",
    "import plotly.express as px "
   ]
  },
  {
   "cell_type": "markdown",
   "id": "2418b5c8",
   "metadata": {},
   "source": [
    "#### Connect to MongoDB"
   ]
  },
  {
   "cell_type": "code",
   "execution_count": 44,
   "id": "b3dc59b0",
   "metadata": {},
   "outputs": [],
   "source": [
    "client = MongoClient('localhost', 27017)\n",
    "db = client['pd-sample-1']\n",
    "collection = db.outputItems"
   ]
  },
  {
   "cell_type": "code",
   "execution_count": 45,
   "id": "ebfa6934",
   "metadata": {},
   "outputs": [
    {
     "data": {
      "text/html": [
       "<div>\n",
       "<style scoped>\n",
       "    .dataframe tbody tr th:only-of-type {\n",
       "        vertical-align: middle;\n",
       "    }\n",
       "\n",
       "    .dataframe tbody tr th {\n",
       "        vertical-align: top;\n",
       "    }\n",
       "\n",
       "    .dataframe thead th {\n",
       "        text-align: right;\n",
       "    }\n",
       "</style>\n",
       "<table border=\"1\" class=\"dataframe\">\n",
       "  <thead>\n",
       "    <tr style=\"text-align: right;\">\n",
       "      <th></th>\n",
       "      <th>_id</th>\n",
       "      <th>url</th>\n",
       "      <th>text</th>\n",
       "      <th>school_id</th>\n",
       "      <th>depth</th>\n",
       "      <th>image_urls</th>\n",
       "      <th>file_urls</th>\n",
       "      <th>file_text</th>\n",
       "      <th>images</th>\n",
       "      <th>files</th>\n",
       "    </tr>\n",
       "  </thead>\n",
       "  <tbody>\n",
       "    <tr>\n",
       "      <th>0</th>\n",
       "      <td>6220dea489a7ab5bd8cd68d1</td>\n",
       "      <td>https://www.ycsoaz.gov/media-releases</td>\n",
       "      <td>Media Releases are available online for 30 day...</td>\n",
       "      <td>635360.0</td>\n",
       "      <td>1</td>\n",
       "      <td>[https://www.ycsoaz.gov/Portals/0/OzoneSheriff...</td>\n",
       "      <td>[]</td>\n",
       "      <td>[]</td>\n",
       "      <td>[]</td>\n",
       "      <td>[]</td>\n",
       "    </tr>\n",
       "    <tr>\n",
       "      <th>1</th>\n",
       "      <td>6220dea689a7ab5bd8cd68d3</td>\n",
       "      <td>http://www.nashuapd.com/?A=Archive&amp;S=PastDispatch</td>\n",
       "      <td>Non-Emergency: (603) 594-3500For All Emergenci...</td>\n",
       "      <td>644371.0</td>\n",
       "      <td>1</td>\n",
       "      <td>[http://www.nashuapd.com/img/police_banner_sma...</td>\n",
       "      <td>[http://www.nashuapd.com/Forms/PT-TestRequirem...</td>\n",
       "      <td>[Nashua Police Department \\n\\nAGILITY TESTING ...</td>\n",
       "      <td>[{'url': 'http://www.nashuapd.com/img/police_b...</td>\n",
       "      <td>[{'url': 'http://www.nashuapd.com/Forms/PT-Tes...</td>\n",
       "    </tr>\n",
       "    <tr>\n",
       "      <th>2</th>\n",
       "      <td>6220dea789a7ab5bd8cd68d5</td>\n",
       "      <td>https://salisburync.gov/Login?returnurl=%2fgov...</td>\n",
       "      <td>Skip to main content\\n \\n \\n \\n \\n Accessibili...</td>\n",
       "      <td>648963.0</td>\n",
       "      <td>1</td>\n",
       "      <td>[https://salisburync.gov/Portals/0/Images/City...</td>\n",
       "      <td>[]</td>\n",
       "      <td>[]</td>\n",
       "      <td>[]</td>\n",
       "      <td>[]</td>\n",
       "    </tr>\n",
       "    <tr>\n",
       "      <th>3</th>\n",
       "      <td>6220dea789a7ab5bd8cd68d7</td>\n",
       "      <td>https://salisburync.gov/Privacy</td>\n",
       "      <td>Skip to main content\\n \\n \\n \\n \\n Accessibili...</td>\n",
       "      <td>648963.0</td>\n",
       "      <td>1</td>\n",
       "      <td>[https://salisburync.gov/Portals/0/Images/City...</td>\n",
       "      <td>[]</td>\n",
       "      <td>[]</td>\n",
       "      <td>[]</td>\n",
       "      <td>[]</td>\n",
       "    </tr>\n",
       "    <tr>\n",
       "      <th>4</th>\n",
       "      <td>6220dea789a7ab5bd8cd68d9</td>\n",
       "      <td>https://salisburync.gov/Terms</td>\n",
       "      <td>Skip to main content\\n \\n \\n \\n \\n Accessibili...</td>\n",
       "      <td>648963.0</td>\n",
       "      <td>1</td>\n",
       "      <td>[https://salisburync.gov/Portals/0/Images/City...</td>\n",
       "      <td>[]</td>\n",
       "      <td>[]</td>\n",
       "      <td>[]</td>\n",
       "      <td>[]</td>\n",
       "    </tr>\n",
       "  </tbody>\n",
       "</table>\n",
       "</div>"
      ],
      "text/plain": [
       "                        _id  \\\n",
       "0  6220dea489a7ab5bd8cd68d1   \n",
       "1  6220dea689a7ab5bd8cd68d3   \n",
       "2  6220dea789a7ab5bd8cd68d5   \n",
       "3  6220dea789a7ab5bd8cd68d7   \n",
       "4  6220dea789a7ab5bd8cd68d9   \n",
       "\n",
       "                                                 url  \\\n",
       "0              https://www.ycsoaz.gov/media-releases   \n",
       "1  http://www.nashuapd.com/?A=Archive&S=PastDispatch   \n",
       "2  https://salisburync.gov/Login?returnurl=%2fgov...   \n",
       "3                    https://salisburync.gov/Privacy   \n",
       "4                      https://salisburync.gov/Terms   \n",
       "\n",
       "                                                text  school_id  depth  \\\n",
       "0  Media Releases are available online for 30 day...   635360.0      1   \n",
       "1  Non-Emergency: (603) 594-3500For All Emergenci...   644371.0      1   \n",
       "2  Skip to main content\\n \\n \\n \\n \\n Accessibili...   648963.0      1   \n",
       "3  Skip to main content\\n \\n \\n \\n \\n Accessibili...   648963.0      1   \n",
       "4  Skip to main content\\n \\n \\n \\n \\n Accessibili...   648963.0      1   \n",
       "\n",
       "                                          image_urls  \\\n",
       "0  [https://www.ycsoaz.gov/Portals/0/OzoneSheriff...   \n",
       "1  [http://www.nashuapd.com/img/police_banner_sma...   \n",
       "2  [https://salisburync.gov/Portals/0/Images/City...   \n",
       "3  [https://salisburync.gov/Portals/0/Images/City...   \n",
       "4  [https://salisburync.gov/Portals/0/Images/City...   \n",
       "\n",
       "                                           file_urls  \\\n",
       "0                                                 []   \n",
       "1  [http://www.nashuapd.com/Forms/PT-TestRequirem...   \n",
       "2                                                 []   \n",
       "3                                                 []   \n",
       "4                                                 []   \n",
       "\n",
       "                                           file_text  \\\n",
       "0                                                 []   \n",
       "1  [Nashua Police Department \\n\\nAGILITY TESTING ...   \n",
       "2                                                 []   \n",
       "3                                                 []   \n",
       "4                                                 []   \n",
       "\n",
       "                                              images  \\\n",
       "0                                                 []   \n",
       "1  [{'url': 'http://www.nashuapd.com/img/police_b...   \n",
       "2                                                 []   \n",
       "3                                                 []   \n",
       "4                                                 []   \n",
       "\n",
       "                                               files  \n",
       "0                                                 []  \n",
       "1  [{'url': 'http://www.nashuapd.com/Forms/PT-Tes...  \n",
       "2                                                 []  \n",
       "3                                                 []  \n",
       "4                                                 []  "
      ]
     },
     "execution_count": 45,
     "metadata": {},
     "output_type": "execute_result"
    }
   ],
   "source": [
    "data = pd.DataFrame(list(collection.find()))\n",
    "data.head()"
   ]
  },
  {
   "cell_type": "code",
   "execution_count": 46,
   "id": "58adf7d0",
   "metadata": {},
   "outputs": [
    {
     "data": {
      "text/plain": [
       "637689.0    1456\n",
       "645176.0    1326\n",
       "636473.0     550\n",
       "641606.0     289\n",
       "635767.0     158\n",
       "636658.0     145\n",
       "635360.0     118\n",
       "639630.0      79\n",
       "646671.0      63\n",
       "650156.0      23\n",
       "633582.0      12\n",
       "648963.0       3\n",
       "644371.0       2\n",
       "642301.0       2\n",
       "648868.0       2\n",
       "650567.0       1\n",
       "648728.0       1\n",
       "Name: school_id, dtype: int64"
      ]
     },
     "execution_count": 46,
     "metadata": {},
     "output_type": "execute_result"
    }
   ],
   "source": [
    "data['school_id'].value_counts()"
   ]
  },
  {
   "cell_type": "code",
   "execution_count": 35,
   "id": "a3524d99",
   "metadata": {},
   "outputs": [
    {
     "data": {
      "text/html": [
       "<div>\n",
       "<style scoped>\n",
       "    .dataframe tbody tr th:only-of-type {\n",
       "        vertical-align: middle;\n",
       "    }\n",
       "\n",
       "    .dataframe tbody tr th {\n",
       "        vertical-align: top;\n",
       "    }\n",
       "\n",
       "    .dataframe thead th {\n",
       "        text-align: right;\n",
       "    }\n",
       "</style>\n",
       "<table border=\"1\" class=\"dataframe\">\n",
       "  <thead>\n",
       "    <tr style=\"text-align: right;\">\n",
       "      <th></th>\n",
       "      <th>_id</th>\n",
       "      <th>url</th>\n",
       "      <th>text</th>\n",
       "      <th>school_id</th>\n",
       "      <th>depth</th>\n",
       "      <th>image_urls</th>\n",
       "      <th>file_urls</th>\n",
       "      <th>file_text</th>\n",
       "      <th>images</th>\n",
       "      <th>files</th>\n",
       "    </tr>\n",
       "  </thead>\n",
       "  <tbody>\n",
       "    <tr>\n",
       "      <th>1348</th>\n",
       "      <td>622118d089a7ab5bd8cd7ea5</td>\n",
       "      <td>https://www.bayso.org/login.aspx</td>\n",
       "      <td>Contact\\n \\n \\n \\n \\n \\n \\n \\n \\n \\n \\n \\n \\n ...</td>\n",
       "      <td>636658.0</td>\n",
       "      <td>1</td>\n",
       "      <td>[https://www.bayso.org/Graphics/Bay-County-She...</td>\n",
       "      <td>[]</td>\n",
       "      <td>[]</td>\n",
       "      <td>[{'url': 'https://www.bayso.org/Graphics/Bay-C...</td>\n",
       "      <td>[]</td>\n",
       "    </tr>\n",
       "    <tr>\n",
       "      <th>1349</th>\n",
       "      <td>622118d089a7ab5bd8cd7ea7</td>\n",
       "      <td>https://www.bayso.org/bcso-Videos.aspx</td>\n",
       "      <td>Contact\\n \\n \\n \\n \\n \\n \\n \\n \\n \\n \\n \\n \\n ...</td>\n",
       "      <td>636658.0</td>\n",
       "      <td>1</td>\n",
       "      <td>[https://www.bayso.org/Graphics/Bay-County-She...</td>\n",
       "      <td>[]</td>\n",
       "      <td>[]</td>\n",
       "      <td>[{'url': 'https://www.bayso.org/Graphics/Bay-C...</td>\n",
       "      <td>[]</td>\n",
       "    </tr>\n",
       "    <tr>\n",
       "      <th>1350</th>\n",
       "      <td>622118d089a7ab5bd8cd7ea9</td>\n",
       "      <td>https://www.bayso.org/press-release-details.as...</td>\n",
       "      <td>Contact\\n \\n \\n \\n \\n \\n \\n \\n \\n \\n \\n \\n \\n ...</td>\n",
       "      <td>636658.0</td>\n",
       "      <td>1</td>\n",
       "      <td>[https://www.bayso.org/Graphics/Bay-County-She...</td>\n",
       "      <td>[]</td>\n",
       "      <td>[]</td>\n",
       "      <td>[{'url': 'https://www.bayso.org/Graphics/Bay-C...</td>\n",
       "      <td>[]</td>\n",
       "    </tr>\n",
       "    <tr>\n",
       "      <th>1351</th>\n",
       "      <td>622118d089a7ab5bd8cd7eab</td>\n",
       "      <td>https://www.bayso.org/press-release-details.as...</td>\n",
       "      <td>Contact\\n \\n \\n \\n \\n \\n \\n \\n \\n \\n \\n \\n \\n ...</td>\n",
       "      <td>636658.0</td>\n",
       "      <td>1</td>\n",
       "      <td>[https://www.bayso.org/Graphics/Bay-County-She...</td>\n",
       "      <td>[]</td>\n",
       "      <td>[]</td>\n",
       "      <td>[{'url': 'https://www.bayso.org/Graphics/Bay-C...</td>\n",
       "      <td>[]</td>\n",
       "    </tr>\n",
       "    <tr>\n",
       "      <th>1352</th>\n",
       "      <td>622118d089a7ab5bd8cd7ead</td>\n",
       "      <td>https://www.bayso.org/jail-division.aspx</td>\n",
       "      <td>Contact\\n \\n \\n \\n \\n \\n \\n \\n \\n \\n \\n \\n \\n ...</td>\n",
       "      <td>636658.0</td>\n",
       "      <td>1</td>\n",
       "      <td>[https://www.bayso.org/Graphics/Bay-County-She...</td>\n",
       "      <td>[]</td>\n",
       "      <td>[]</td>\n",
       "      <td>[{'url': 'https://www.bayso.org/Graphics/Bay-C...</td>\n",
       "      <td>[]</td>\n",
       "    </tr>\n",
       "    <tr>\n",
       "      <th>...</th>\n",
       "      <td>...</td>\n",
       "      <td>...</td>\n",
       "      <td>...</td>\n",
       "      <td>...</td>\n",
       "      <td>...</td>\n",
       "      <td>...</td>\n",
       "      <td>...</td>\n",
       "      <td>...</td>\n",
       "      <td>...</td>\n",
       "      <td>...</td>\n",
       "    </tr>\n",
       "    <tr>\n",
       "      <th>1491</th>\n",
       "      <td>6221191889a7ab5bd8cd7ffa</td>\n",
       "      <td>https://www.bayso.org/press-release-details.as...</td>\n",
       "      <td>Contact\\n \\n \\n \\n \\n \\n \\n \\n \\n \\n \\n \\n \\n ...</td>\n",
       "      <td>636658.0</td>\n",
       "      <td>2</td>\n",
       "      <td>[https://www.bayso.org/Graphics/Bay-County-She...</td>\n",
       "      <td>[]</td>\n",
       "      <td>[]</td>\n",
       "      <td>[{'url': 'https://www.bayso.org/Graphics/Bay-C...</td>\n",
       "      <td>[]</td>\n",
       "    </tr>\n",
       "    <tr>\n",
       "      <th>1494</th>\n",
       "      <td>6221192589a7ab5bd8cd800e</td>\n",
       "      <td>https://www.bayso.org/press-release-details.as...</td>\n",
       "      <td>Contact\\n \\n \\n \\n \\n \\n \\n \\n \\n \\n \\n \\n \\n ...</td>\n",
       "      <td>636658.0</td>\n",
       "      <td>2</td>\n",
       "      <td>[https://www.bayso.org/Graphics/Bay-County-She...</td>\n",
       "      <td>[]</td>\n",
       "      <td>[]</td>\n",
       "      <td>[{'url': 'https://www.bayso.org/Graphics/Bay-C...</td>\n",
       "      <td>[]</td>\n",
       "    </tr>\n",
       "    <tr>\n",
       "      <th>1497</th>\n",
       "      <td>6221192c89a7ab5bd8cd8017</td>\n",
       "      <td>https://www.bayso.org/press-release-details.as...</td>\n",
       "      <td>Contact\\n \\n \\n \\n \\n \\n \\n \\n \\n \\n \\n \\n \\n ...</td>\n",
       "      <td>636658.0</td>\n",
       "      <td>2</td>\n",
       "      <td>[https://www.bayso.org/Graphics/Bay-County-She...</td>\n",
       "      <td>[]</td>\n",
       "      <td>[]</td>\n",
       "      <td>[{'url': 'https://www.bayso.org/Graphics/Bay-C...</td>\n",
       "      <td>[]</td>\n",
       "    </tr>\n",
       "    <tr>\n",
       "      <th>1499</th>\n",
       "      <td>6221193989a7ab5bd8cd8026</td>\n",
       "      <td>https://www.bayso.org/press-release-details.as...</td>\n",
       "      <td>Contact\\n \\n \\n \\n \\n \\n \\n \\n \\n \\n \\n \\n \\n ...</td>\n",
       "      <td>636658.0</td>\n",
       "      <td>2</td>\n",
       "      <td>[https://www.bayso.org/Graphics/Bay-County-She...</td>\n",
       "      <td>[]</td>\n",
       "      <td>[]</td>\n",
       "      <td>[{'url': 'https://www.bayso.org/Graphics/Bay-C...</td>\n",
       "      <td>[]</td>\n",
       "    </tr>\n",
       "    <tr>\n",
       "      <th>1503</th>\n",
       "      <td>6221197389a7ab5bd8cd805e</td>\n",
       "      <td>https://www.bayso.org/press-release-details.as...</td>\n",
       "      <td>Contact\\n \\n \\n \\n \\n \\n \\n \\n \\n \\n \\n \\n \\n ...</td>\n",
       "      <td>636658.0</td>\n",
       "      <td>2</td>\n",
       "      <td>[https://www.bayso.org/Graphics/Bay-County-She...</td>\n",
       "      <td>[]</td>\n",
       "      <td>[]</td>\n",
       "      <td>[{'url': 'https://www.bayso.org/Graphics/Bay-C...</td>\n",
       "      <td>[]</td>\n",
       "    </tr>\n",
       "  </tbody>\n",
       "</table>\n",
       "<p>140 rows × 10 columns</p>\n",
       "</div>"
      ],
      "text/plain": [
       "                           _id  \\\n",
       "1348  622118d089a7ab5bd8cd7ea5   \n",
       "1349  622118d089a7ab5bd8cd7ea7   \n",
       "1350  622118d089a7ab5bd8cd7ea9   \n",
       "1351  622118d089a7ab5bd8cd7eab   \n",
       "1352  622118d089a7ab5bd8cd7ead   \n",
       "...                        ...   \n",
       "1491  6221191889a7ab5bd8cd7ffa   \n",
       "1494  6221192589a7ab5bd8cd800e   \n",
       "1497  6221192c89a7ab5bd8cd8017   \n",
       "1499  6221193989a7ab5bd8cd8026   \n",
       "1503  6221197389a7ab5bd8cd805e   \n",
       "\n",
       "                                                    url  \\\n",
       "1348                   https://www.bayso.org/login.aspx   \n",
       "1349             https://www.bayso.org/bcso-Videos.aspx   \n",
       "1350  https://www.bayso.org/press-release-details.as...   \n",
       "1351  https://www.bayso.org/press-release-details.as...   \n",
       "1352           https://www.bayso.org/jail-division.aspx   \n",
       "...                                                 ...   \n",
       "1491  https://www.bayso.org/press-release-details.as...   \n",
       "1494  https://www.bayso.org/press-release-details.as...   \n",
       "1497  https://www.bayso.org/press-release-details.as...   \n",
       "1499  https://www.bayso.org/press-release-details.as...   \n",
       "1503  https://www.bayso.org/press-release-details.as...   \n",
       "\n",
       "                                                   text  school_id  depth  \\\n",
       "1348  Contact\\n \\n \\n \\n \\n \\n \\n \\n \\n \\n \\n \\n \\n ...   636658.0      1   \n",
       "1349  Contact\\n \\n \\n \\n \\n \\n \\n \\n \\n \\n \\n \\n \\n ...   636658.0      1   \n",
       "1350  Contact\\n \\n \\n \\n \\n \\n \\n \\n \\n \\n \\n \\n \\n ...   636658.0      1   \n",
       "1351  Contact\\n \\n \\n \\n \\n \\n \\n \\n \\n \\n \\n \\n \\n ...   636658.0      1   \n",
       "1352  Contact\\n \\n \\n \\n \\n \\n \\n \\n \\n \\n \\n \\n \\n ...   636658.0      1   \n",
       "...                                                 ...        ...    ...   \n",
       "1491  Contact\\n \\n \\n \\n \\n \\n \\n \\n \\n \\n \\n \\n \\n ...   636658.0      2   \n",
       "1494  Contact\\n \\n \\n \\n \\n \\n \\n \\n \\n \\n \\n \\n \\n ...   636658.0      2   \n",
       "1497  Contact\\n \\n \\n \\n \\n \\n \\n \\n \\n \\n \\n \\n \\n ...   636658.0      2   \n",
       "1499  Contact\\n \\n \\n \\n \\n \\n \\n \\n \\n \\n \\n \\n \\n ...   636658.0      2   \n",
       "1503  Contact\\n \\n \\n \\n \\n \\n \\n \\n \\n \\n \\n \\n \\n ...   636658.0      2   \n",
       "\n",
       "                                             image_urls file_urls file_text  \\\n",
       "1348  [https://www.bayso.org/Graphics/Bay-County-She...        []        []   \n",
       "1349  [https://www.bayso.org/Graphics/Bay-County-She...        []        []   \n",
       "1350  [https://www.bayso.org/Graphics/Bay-County-She...        []        []   \n",
       "1351  [https://www.bayso.org/Graphics/Bay-County-She...        []        []   \n",
       "1352  [https://www.bayso.org/Graphics/Bay-County-She...        []        []   \n",
       "...                                                 ...       ...       ...   \n",
       "1491  [https://www.bayso.org/Graphics/Bay-County-She...        []        []   \n",
       "1494  [https://www.bayso.org/Graphics/Bay-County-She...        []        []   \n",
       "1497  [https://www.bayso.org/Graphics/Bay-County-She...        []        []   \n",
       "1499  [https://www.bayso.org/Graphics/Bay-County-She...        []        []   \n",
       "1503  [https://www.bayso.org/Graphics/Bay-County-She...        []        []   \n",
       "\n",
       "                                                 images files  \n",
       "1348  [{'url': 'https://www.bayso.org/Graphics/Bay-C...    []  \n",
       "1349  [{'url': 'https://www.bayso.org/Graphics/Bay-C...    []  \n",
       "1350  [{'url': 'https://www.bayso.org/Graphics/Bay-C...    []  \n",
       "1351  [{'url': 'https://www.bayso.org/Graphics/Bay-C...    []  \n",
       "1352  [{'url': 'https://www.bayso.org/Graphics/Bay-C...    []  \n",
       "...                                                 ...   ...  \n",
       "1491  [{'url': 'https://www.bayso.org/Graphics/Bay-C...    []  \n",
       "1494  [{'url': 'https://www.bayso.org/Graphics/Bay-C...    []  \n",
       "1497  [{'url': 'https://www.bayso.org/Graphics/Bay-C...    []  \n",
       "1499  [{'url': 'https://www.bayso.org/Graphics/Bay-C...    []  \n",
       "1503  [{'url': 'https://www.bayso.org/Graphics/Bay-C...    []  \n",
       "\n",
       "[140 rows x 10 columns]"
      ]
     },
     "execution_count": 35,
     "metadata": {},
     "output_type": "execute_result"
    }
   ],
   "source": [
    "data[data['school_id']==636658.0]"
   ]
  },
  {
   "cell_type": "code",
   "execution_count": 6,
   "id": "cf270207",
   "metadata": {},
   "outputs": [],
   "source": [
    "data[\"image_count\"] = data[\"image_urls\"].apply(len)\n",
    "data[\"file_count\"] = data[\"file_urls\"].apply(len)"
   ]
  },
  {
   "cell_type": "code",
   "execution_count": 7,
   "id": "9d78017f",
   "metadata": {},
   "outputs": [
    {
     "data": {
      "text/plain": [
       "(array([   0.,   16.,   16.,   19.,  239., 1051.]),\n",
       " array([0., 1., 2., 3., 4., 5., 6.]),\n",
       " <BarContainer object of 6 artists>)"
      ]
     },
     "execution_count": 7,
     "metadata": {},
     "output_type": "execute_result"
    },
    {
     "data": {
      "image/png": "[encoded data removed]",
      "text/plain": [
       "<Figure size 432x288 with 1 Axes>"
      ]
     },
     "metadata": {
      "needs_background": "light"
     },
     "output_type": "display_data"
    }
   ],
   "source": [
    "plt.hist(data.depth, bins=np.arange(6.1))"
   ]
  },
  {
   "cell_type": "code",
   "execution_count": 8,
   "id": "8d735159",
   "metadata": {},
   "outputs": [
    {
     "data": {
      "text/plain": [
       "(array([130., 243., 940.,  13.,  12.,   2.,   0.,   0.,   0.,   0.,   0.,\n",
       "          0.,   0.,   0.,   0.,   1.,   0.,   0.,   0.]),\n",
       " array([ 0.,  5., 10., 15., 20., 25., 30., 35., 40., 45., 50., 55., 60.,\n",
       "        65., 70., 75., 80., 85., 90., 95.]),\n",
       " <BarContainer object of 19 artists>)"
      ]
     },
     "execution_count": 8,
     "metadata": {},
     "output_type": "execute_result"
    },
    {
     "data": {
      "image/png": "[encoded data removed]",
      "text/plain": [
       "<Figure size 432x288 with 1 Axes>"
      ]
     },
     "metadata": {
      "needs_background": "light"
     },
     "output_type": "display_data"
    }
   ],
   "source": [
    "plt.hist(data.image_count, bins=np.arange(0, 95.1, 5))"
   ]
  },
  {
   "cell_type": "code",
   "execution_count": 9,
   "id": "c8e76c71",
   "metadata": {},
   "outputs": [
    {
     "data": {
      "text/plain": [
       "(array([1019.,  203.,   32.,   24.,   14.,   17.]),\n",
       " array([0., 1., 2., 3., 4., 5., 6.]),\n",
       " <BarContainer object of 6 artists>)"
      ]
     },
     "execution_count": 9,
     "metadata": {},
     "output_type": "execute_result"
    },
    {
     "data": {
      "image/png": "[encoded data removed]",
      "text/plain": [
       "<Figure size 432x288 with 1 Axes>"
      ]
     },
     "metadata": {
      "needs_background": "light"
     },
     "output_type": "display_data"
    }
   ],
   "source": [
    "plt.hist(data.file_count, bins=np.arange(6.1))"
   ]
  },
  {
   "cell_type": "code",
   "execution_count": null,
   "id": "7fb4e277",
   "metadata": {},
   "outputs": [],
   "source": []
  }
 ],
 "metadata": {
  "kernelspec": {
   "display_name": "Python 3 (ipykernel)",
   "language": "python",
   "name": "python3"
  },
  "language_info": {
   "codemirror_mode": {
    "name": "ipython",
    "version": 3
   },
   "file_extension": ".py",
   "mimetype": "text/x-python",
   "name": "python",
   "nbconvert_exporter": "python",
   "pygments_lexer": "ipython3",
   "version": "3.9.7"
  }
 },
 "nbformat": 4,
 "nbformat_minor": 5
}
